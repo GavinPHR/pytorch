{
 "metadata": {
  "language_info": {
   "codemirror_mode": {
    "name": "ipython",
    "version": 3
   },
   "file_extension": ".py",
   "mimetype": "text/x-python",
   "name": "python",
   "nbconvert_exporter": "python",
   "pygments_lexer": "ipython3",
   "version": "3.6.10"
  },
  "orig_nbformat": 2,
  "kernelspec": {
   "name": "python3610jvsc74a57bd0eb5e09632d6ea1cbf3eb9da7e37b7cf581db5ed13074b21cc44e159dc62acdab",
   "display_name": "Python 3.6.10 64-bit ('dataloader': conda)"
  }
 },
 "nbformat": 4,
 "nbformat_minor": 2,
 "cells": [
  {
   "source": [
    "## How DataFrames (DF) and DataPipes (DP) can work together"
   ],
   "cell_type": "markdown",
   "metadata": {}
  },
  {
   "cell_type": "code",
   "execution_count": 1,
   "metadata": {},
   "outputs": [],
   "source": [
    "from torch.utils.data import IterDataPipe"
   ]
  },
  {
   "cell_type": "code",
   "execution_count": 2,
   "metadata": {},
   "outputs": [],
   "source": [
    "# Example IterDataPipe\n",
    "class ExampleIterPipe(IterDataPipe):\n",
    "    def __init__(self, range = 20):\n",
    "        self.range = range\n",
    "    def __iter__(self):\n",
    "        for i in range(self.range):\n",
    "            yield i"
   ]
  },
  {
   "source": [
    "`to_dataframes_pipe` converts tuples into DataFrames, ideally dataloaders will load into DF directly"
   ],
   "cell_type": "markdown",
   "metadata": {}
  },
  {
   "cell_type": "code",
   "execution_count": 3,
   "metadata": {},
   "outputs": [
    {
     "output_type": "stream",
     "name": "stdout",
     "text": [
      "   i  j\n0  0  0\n1  1  1\n2  2  2\n3  3  0\n4  4  1\n5  5  2\n6  6  0\n    i  j\n0   7  1\n1   8  2\n2   9  0\n3  10  1\n4  11  2\n5  12  0\n6  13  1\n    i  j\n0  14  2\n1  15  0\n2  16  1\n3  17  2\n4  18  0\n5  19  1\n"
     ]
    }
   ],
   "source": [
    "def get_dataframes_pipe(range = 20, batch_size = 7):\n",
    "    return ExampleIterPipe(range = range).map(lambda i: (i, i % 3)).to_dataframes_pipe(columns = ['i','j'], batch_size = batch_size)\n",
    "\n",
    "dp = get_dataframes_pipe()\n",
    "\n",
    "# Iterator converts DF Pipe into singular items\n",
    "for i in dp:\n",
    "    print(i)"
   ]
  },
  {
   "source": [
    "Operations over DF Pipe is captured"
   ],
   "cell_type": "markdown",
   "metadata": {}
  },
  {
   "cell_type": "code",
   "execution_count": 4,
   "metadata": {
    "tags": []
   },
   "outputs": [
    {
     "output_type": "stream",
     "name": "stdout",
     "text": [
      "var_2 = input_var_1.i * 100\nvar_3 = var_2 + input_var_1.j\nvar_4 = var_3 - 2.7\ninput_var_1[\"y\"] = var_4\n"
     ]
    }
   ],
   "source": [
    "dp = get_dataframes_pipe(batch_size = 3)\n",
    "dp['y'] = dp.i * 100 + dp.j - 2.7\n",
    "print(dp.ops_str())\n"
   ]
  },
  {
   "source": [
    "Captured operations executed on `__next__` calls of constructed DataPipe"
   ],
   "cell_type": "markdown",
   "metadata": {}
  },
  {
   "cell_type": "code",
   "execution_count": 5,
   "metadata": {},
   "outputs": [
    {
     "output_type": "stream",
     "name": "stdout",
     "text": [
      "   i  j      y\n0  0  0   -2.7\n1  1  1   98.3\n2  2  2  199.3\n   i  j      y\n0  3  0  297.3\n1  4  1  398.3\n2  5  2  499.3\n   i  j      y\n0  6  0  597.3\n1  7  1  698.3\n2  8  2  799.3\n    i  j       y\n0   9  0   897.3\n1  10  1   998.3\n2  11  2  1099.3\n    i  j       y\n0  12  0  1197.3\n1  13  1  1298.3\n2  14  2  1399.3\n    i  j       y\n0  15  0  1497.3\n1  16  1  1598.3\n2  17  2  1699.3\n    i  j       y\n0  18  0  1797.3\n1  19  1  1898.3\n"
     ]
    }
   ],
   "source": [
    "dp = get_dataframes_pipe(batch_size = 3)\n",
    "dp['y'] = dp.i * 100 + dp.j - 2.7\n",
    "for i in dp:\n",
    "    print(i)"
   ]
  },
  {
   "source": [
    "`shuffle` is DataPipe level operation here and it changes order of DataFrames"
   ],
   "cell_type": "markdown",
   "metadata": {}
  },
  {
   "cell_type": "code",
   "execution_count": 6,
   "metadata": {},
   "outputs": [
    {
     "output_type": "stream",
     "name": "stdout",
     "text": [
      "    i  j       y\n0  15  0  1497.3\n1  16  1  1598.3\n2  17  2  1699.3\n    i  j       y\n0  12  0  1197.3\n1  13  1  1298.3\n2  14  2  1399.3\n    i  j       y\n0  18  0  1797.3\n1  19  1  1898.3\n   i  j      y\n0  0  0   -2.7\n1  1  1   98.3\n2  2  2  199.3\n   i  j      y\n0  3  0  297.3\n1  4  1  398.3\n2  5  2  499.3\n   i  j      y\n0  6  0  597.3\n1  7  1  698.3\n2  8  2  799.3\n    i  j       y\n0   9  0   897.3\n1  10  1   998.3\n2  11  2  1099.3\n"
     ]
    }
   ],
   "source": [
    "dp = get_dataframes_pipe(batch_size = 3)\n",
    "dp['y'] = dp.i * 100 + dp.j - 2.7\n",
    "dp = dp.shuffle()\n",
    "for i in dp:\n",
    "    print(i)"
   ]
  },
  {
   "source": [
    "You can continue mixing DF and DP operations"
   ],
   "cell_type": "markdown",
   "metadata": {}
  },
  {
   "cell_type": "code",
   "execution_count": 7,
   "metadata": {},
   "outputs": [
    {
     "output_type": "stream",
     "name": "stdout",
     "text": [
      "    i   j          y\n0 -11 -17  5803000.0\n1 -10 -16  6813000.0\n2  -9 -15  7823000.0\n    i   j          y\n0 -14 -17  2803000.0\n1 -13 -16  3813000.0\n2 -12 -15  4823000.0\n   i   j           y\n0  1 -17  17803000.0\n1  2 -16  18813000.0\n   i   j           y\n0 -8 -17   8803000.0\n1 -7 -16   9813000.0\n2 -6 -15  10823000.0\n   i   j           y\n0 -2 -17  14803000.0\n1 -1 -16  15813000.0\n2  0 -15  16823000.0\n   i   j           y\n0 -5 -17  11803000.0\n1 -4 -16  12813000.0\n2 -3 -15  13823000.0\n    i   j          y\n0 -17 -17  -197000.0\n1 -16 -16   813000.0\n2 -15 -15  1823000.0\n"
     ]
    }
   ],
   "source": [
    "dp = get_dataframes_pipe(batch_size = 3)\n",
    "dp['y'] = dp.i * 100 + dp.j - 2.7\n",
    "dp = dp.shuffle()\n",
    "dp = dp - 17\n",
    "dp['y'] = dp.y * 10000\n",
    "for i in dp:\n",
    "    print(i)"
   ]
  },
  {
   "source": [
    "#### Open questions:\n",
    " - Does this `bath` API looks intuitive?"
   ],
   "cell_type": "markdown",
   "metadata": {}
  },
  {
   "cell_type": "code",
   "execution_count": 11,
   "metadata": {},
   "outputs": [
    {
     "output_type": "stream",
     "name": "stdout",
     "text": [
      "batch 0\n    i   j          y\n0 -11 -17  5803000.0\n1 -10 -16  6813000.0\n2  -9 -15  7823000.0\n    i   j          y\n0 -14 -17  2803000.0\n1 -13 -16  3813000.0\n2 -12 -15  4823000.0\nbatch 1\n   i   j           y\n0 -2 -17  14803000.0\n1 -1 -16  15813000.0\n2  0 -15  16823000.0\n   i   j           y\n0 -8 -17   8803000.0\n1 -7 -16   9813000.0\n2 -6 -15  10823000.0\nbatch 2\n    i   j          y\n0 -17 -17  -197000.0\n1 -16 -16   813000.0\n2 -15 -15  1823000.0\n   i   j           y\n0 -5 -17  11803000.0\n1 -4 -16  12813000.0\n2 -3 -15  13823000.0\nbatch 3\n   i   j           y\n0  1 -17  17803000.0\n1  2 -16  18813000.0\n"
     ]
    }
   ],
   "source": [
    "dp = get_dataframes_pipe(batch_size = 3)\n",
    "dp['y'] = dp.i * 100 + dp.j - 2.7\n",
    "dp = dp.shuffle()\n",
    "dp = dp - 17\n",
    "dp['y'] = dp.y * 10000\n",
    "dp = dp.batch(2)\n",
    "for i,v in enumerate(dp):\n",
    "    print('batch',i)\n",
    "    for x in v:\n",
    "        print(x)"
   ]
  },
  {
   "source": [
    " - Should be support untyped `concat`?"
   ],
   "cell_type": "markdown",
   "metadata": {}
  },
  {
   "cell_type": "code",
   "execution_count": 15,
   "metadata": {},
   "outputs": [
    {
     "output_type": "stream",
     "name": "stdout",
     "text": [
      "   i  j      y\n0  0  0   -2.7\n1  1  1   98.3\n2  2  2  199.3\n   i  j      y\n0  3  0  297.3\n1  4  1  398.3\n2  5  2  499.3\n   i  j\n0  0  0\n1  1  1\n2  2  2\n3  3  0\n   i  j\n0  4  1\n1  5  2\n2  6  0\n3  7  1\n"
     ]
    }
   ],
   "source": [
    "dp0 = get_dataframes_pipe(range = 8, batch_size = 4)\n",
    "dp = get_dataframes_pipe(range = 6, batch_size = 3)\n",
    "dp['y'] = dp.i * 100 + dp.j - 2.7\n",
    "dp = dp.concat(dp0)\n",
    "for i,v in enumerate(dp):\n",
    "    print(v)"
   ]
  },
  {
   "source": [
    " - How unbatching of DF should look alike?"
   ],
   "cell_type": "markdown",
   "metadata": {}
  },
  {
   "cell_type": "code",
   "execution_count": 16,
   "metadata": {},
   "outputs": [
    {
     "output_type": "error",
     "ename": "TypeError",
     "evalue": "'CaptureGetAttr' object is not callable",
     "traceback": [
      "\u001b[0;31m---------------------------------------------------------------------------\u001b[0m",
      "\u001b[0;31mTypeError\u001b[0m                                 Traceback (most recent call last)",
      "\u001b[0;32m<ipython-input-16-5f3e61315639>\u001b[0m in \u001b[0;36m<module>\u001b[0;34m\u001b[0m\n\u001b[1;32m      1\u001b[0m \u001b[0mdp\u001b[0m \u001b[0;34m=\u001b[0m \u001b[0mget_dataframes_pipe\u001b[0m\u001b[0;34m(\u001b[0m\u001b[0mrange\u001b[0m \u001b[0;34m=\u001b[0m \u001b[0;36m6\u001b[0m\u001b[0;34m,\u001b[0m \u001b[0mbatch_size\u001b[0m \u001b[0;34m=\u001b[0m \u001b[0;36m3\u001b[0m\u001b[0;34m)\u001b[0m\u001b[0;34m\u001b[0m\u001b[0;34m\u001b[0m\u001b[0m\n\u001b[1;32m      2\u001b[0m \u001b[0mdp\u001b[0m\u001b[0;34m[\u001b[0m\u001b[0;34m'y'\u001b[0m\u001b[0;34m]\u001b[0m \u001b[0;34m=\u001b[0m \u001b[0mdp\u001b[0m\u001b[0;34m.\u001b[0m\u001b[0mi\u001b[0m \u001b[0;34m*\u001b[0m \u001b[0;36m100\u001b[0m \u001b[0;34m+\u001b[0m \u001b[0mdp\u001b[0m\u001b[0;34m.\u001b[0m\u001b[0mj\u001b[0m \u001b[0;34m-\u001b[0m \u001b[0;36m2.7\u001b[0m\u001b[0;34m\u001b[0m\u001b[0;34m\u001b[0m\u001b[0m\n\u001b[0;32m----> 3\u001b[0;31m \u001b[0mdp\u001b[0m \u001b[0;34m=\u001b[0m \u001b[0mdp\u001b[0m\u001b[0;34m.\u001b[0m\u001b[0munbatch\u001b[0m\u001b[0;34m(\u001b[0m\u001b[0;34m)\u001b[0m\u001b[0;34m\u001b[0m\u001b[0;34m\u001b[0m\u001b[0m\n\u001b[0m\u001b[1;32m      4\u001b[0m \u001b[0;32mfor\u001b[0m \u001b[0mi\u001b[0m \u001b[0;32min\u001b[0m \u001b[0mdp\u001b[0m\u001b[0;34m:\u001b[0m\u001b[0;34m\u001b[0m\u001b[0;34m\u001b[0m\u001b[0m\n\u001b[1;32m      5\u001b[0m     \u001b[0mprint\u001b[0m\u001b[0;34m(\u001b[0m\u001b[0mi\u001b[0m\u001b[0;34m)\u001b[0m\u001b[0;34m\u001b[0m\u001b[0;34m\u001b[0m\u001b[0m\n",
      "\u001b[0;31mTypeError\u001b[0m: 'CaptureGetAttr' object is not callable"
     ]
    }
   ],
   "source": [
    "dp = get_dataframes_pipe(range = 6, batch_size = 3)\n",
    "dp['y'] = dp.i * 100 + dp.j - 2.7\n",
    "dp = dp.unbatch()\n",
    "for i in dp:\n",
    "    print(i)"
   ]
  },
  {
   "cell_type": "code",
   "execution_count": null,
   "metadata": {},
   "outputs": [],
   "source": []
  }
 ]
}